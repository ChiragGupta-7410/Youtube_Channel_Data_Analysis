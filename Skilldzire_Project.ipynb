{
 "cells": [
  {
   "cell_type": "markdown",
   "id": "4c786bb7",
   "metadata": {},
   "source": [
    "# Skilldzire Project\n",
    "## Importing Libraries"
   ]
  },
  {
   "cell_type": "code",
   "execution_count": null,
   "id": "c5d79f8b",
   "metadata": {
    "lines_to_next_cell": 1
   },
   "outputs": [],
   "source": [
    "import pandas as pd\n",
    "import numpy as np\n",
    "import plotly.graph_objects as go\n",
    "import plotly.express as pl\n",
    "import streamlit as st\n",
    "from datetime import datetime\n",
    "import copy"
   ]
  },
  {
   "cell_type": "markdown",
   "id": "419c4e24",
   "metadata": {},
   "source": [
    "## Useful Functions"
   ]
  },
  {
   "cell_type": "code",
   "execution_count": null,
   "id": "d43cde10",
   "metadata": {
    "lines_to_next_cell": 1
   },
   "outputs": [],
   "source": [
    "def color(val):\n",
    "    try:\n",
    "        if val < 0:\n",
    "            return 'color:red;'\n",
    "        elif val > 0:\n",
    "            return 'color:green;'\n",
    "        else :\n",
    "            return None\n",
    "    except:\n",
    "        pass"
   ]
  },
  {
   "cell_type": "markdown",
   "id": "45eb58b2",
   "metadata": {},
   "source": [
    "## Loading and Cleaning Data"
   ]
  },
  {
   "cell_type": "code",
   "execution_count": null,
   "id": "03eaee55",
   "metadata": {},
   "outputs": [],
   "source": [
    "@st.cache_data\n",
    "def load_data():\n",
    "    # Loading CSV Files\n",
    "    \n",
    "    met_vid = pd.read_csv('Aggregated_Metrics_By_Video.csv').iloc[1:,:]\n",
    "    met_con_sub = pd.read_csv('Aggregated_Metrics_By_Country_And_Subscriber_Status.csv')\n",
    "    com_all = pd.read_csv('All_Comments_Final.csv')\n",
    "    vid_per = pd.read_csv('Video_Performance_Over_Time.csv')\n",
    "    \n",
    "    # Cleaning CSV Files\n",
    "    \n",
    "    # Cleaning met_vid\n",
    "    new_columns = ['Video', 'Video Title', 'Video Publish Time', 'Comments Added', 'Shares', 'Dislikes', 'Likes', 'Subscribers Lost', 'Subscribers Gained', 'RPM(USD)', 'CPM(USD)', 'Average Percentage Viewed(%)', 'Average View Duration', 'Views', 'Watch Time(Hours)', 'Subscribers', 'Your Estimated Revenue(USD)', 'Impressions', 'Impressions Click-through Rate(%)']\n",
    "    \n",
    "    met_vid.columns = new_columns\n",
    "    met_vid[new_columns[2]] = pd.to_datetime(met_vid[new_columns[2]], format = 'mixed')\n",
    "    met_vid[new_columns[12]] = met_vid[new_columns[12]].apply(lambda x: datetime.strptime(x,'%H:%M:%S')).dt.time\n",
    "    met_vid['Average View Duration(sec)'] = met_vid['Average View Duration'].apply(lambda x: x.second + x.minute * 60 + x.hour * 3600)\n",
    "    met_vid.sort_values(new_columns[2], inplace = True)\n",
    "\n",
    "    # Cleaning vid_per\n",
    "    vid_per['Date'] = pd.to_datetime(vid_per['Date'], format = 'mixed')\n",
    "\n",
    "    # Cleaning com_all\n",
    "    com_all['Date'] = pd.to_datetime(com_all['Date'], format = '%Y-%m-%dT%H:%M:%SZ')\n",
    "\n",
    "    return met_vid, met_con_sub, com_all, vid_per"
   ]
  },
  {
   "cell_type": "markdown",
   "id": "ecc0f7de",
   "metadata": {},
   "source": [
    "## Data Forming"
   ]
  },
  {
   "cell_type": "code",
   "execution_count": null,
   "id": "f3030939",
   "metadata": {},
   "outputs": [],
   "source": [
    "met_vid, met_con_sub, com_all, vid_per = load_data()"
   ]
  },
  {
   "cell_type": "code",
   "execution_count": null,
   "id": "a0e8d192",
   "metadata": {},
   "outputs": [],
   "source": [
    "temp_vid = copy.deepcopy(met_vid)"
   ]
  },
  {
   "cell_type": "code",
   "execution_count": null,
   "id": "89246749",
   "metadata": {},
   "outputs": [],
   "source": [
    "numeric_cols = np.array((temp_vid.dtypes == 'float64') | (temp_vid.dtypes == 'int64'))\n",
    "median_vid = temp_vid[temp_vid.columns[numeric_cols]].median()"
   ]
  },
  {
   "cell_type": "code",
   "execution_count": null,
   "id": "44bb8619",
   "metadata": {},
   "outputs": [],
   "source": [
    "temp_vid.iloc[:,numeric_cols] = (temp_vid.iloc[:,numeric_cols] - median_vid).div(median_vid)\n",
    "temp_vid['Video Publish Time'] = temp_vid['Video Publish Time'].apply(lambda x: x.date())"
   ]
  },
  {
   "cell_type": "code",
   "execution_count": null,
   "id": "3f286a2d",
   "metadata": {},
   "outputs": [],
   "source": [
    "temp_vid_per = pd.merge(vid_per, met_vid.loc[:,['Video', 'Video Publish Time']], left_on = 'External Video ID', right_on = 'Video')\n",
    "temp_vid_per['Days Published'] = (temp_vid_per['Date'] - temp_vid_per['Video Publish Time']).dt.days"
   ]
  },
  {
   "cell_type": "code",
   "execution_count": null,
   "id": "192cbb2a",
   "metadata": {},
   "outputs": [],
   "source": [
    "views_by_days = pd.pivot_table(temp_vid_per, index = \"Days Published\", values = \"Views\", aggfunc = [np.mean, np.median, lambda x: np.percentile(x, 80), lambda x: np.percentile(x, 20)]).reset_index()\n",
    "views_by_days.columns = ['Days Published', 'Mean Views', 'Median Views', '80 Percentile Views', '20 Percentile Views']\n",
    "views_by_days = views_by_days[views_by_days['Days Published'].between(0,45)]"
   ]
  },
  {
   "cell_type": "code",
   "execution_count": null,
   "id": "687e88b2",
   "metadata": {},
   "outputs": [],
   "source": [
    "cumulative_views = views_by_days.loc[:,['Days Published', 'Median Views', '80 Percentile Views', '20 Percentile Views']]\n",
    "cumulative_views.loc[:, ['Median Views', '80 Percentile Views', '20 Percentile Views']] = cumulative_views.loc[:, ['Median Views', '80 Percentile Views', '20 Percentile Views']].cumsum()"
   ]
  },
  {
   "cell_type": "code",
   "execution_count": null,
   "id": "aa9978cb",
   "metadata": {},
   "outputs": [],
   "source": [
    "temp_com_all = pd.merge(com_all.loc[:,['Date', \"VidId\"]], met_vid.loc[:,['Video', 'Video Title']], left_on = 'VidId', right_on = 'Video')\n",
    "temp_com_all['Date'] = temp_com_all['Date'].apply(lambda x: x.date())\n",
    "temp_com_all['No of Comments'] = 1"
   ]
  },
  {
   "cell_type": "code",
   "execution_count": null,
   "id": "6701a0e9",
   "metadata": {},
   "outputs": [],
   "source": [
    "comments_by_date = pd.pivot_table(temp_com_all, index = ['VidId', 'Video Title','Date'], aggfunc ={'No of Comments' : np.sum} ).reset_index()"
   ]
  },
  {
   "cell_type": "markdown",
   "id": "4ef562ae",
   "metadata": {},
   "source": [
    "## Dashboard"
   ]
  },
  {
   "cell_type": "code",
   "execution_count": null,
   "id": "70e4210e",
   "metadata": {},
   "outputs": [],
   "source": [
    "def main():\n",
    "    \n",
    "    st.title(\"Youtube Channel Data Analysis\")\n",
    "    \n",
    "    dropbox_items = ('Aggregate Metrics','Aggregated Tabular Metrics', 'Individual Video Analysis')\n",
    "    sidebar = st.sidebar.selectbox('Menu', dropbox_items)\n",
    "\n",
    "    if sidebar == dropbox_items[0]:\n",
    "        st.subheader(dropbox_items[0])\n",
    "        metrics = met_vid[['Video Publish Time', 'Views', 'Likes', 'Dislikes', 'Shares', 'Comments Added', 'Subscribers', 'Subscribers Lost', 'Subscribers Gained', 'Impressions', 'Impressions Click-through Rate(%)', 'Average Percentage Viewed(%)', 'Average View Duration(sec)', 'RPM(USD)', 'CPM(USD)', 'Your Estimated Revenue(USD)']]\n",
    "        offset_6month = metrics['Video Publish Time'].max() - pd.DateOffset(months = 6)\n",
    "        metric_median_6month = metrics[metrics['Video Publish Time'] >= offset_6month].median()\n",
    "        metric_median_all = metrics[metrics.columns[:]].median()\n",
    "\n",
    "        col1, col2, col3, col4, col5 = st.columns(5)\n",
    "        columns = [col1, col2, col3, col4, col5]\n",
    "\n",
    "        count = 0\n",
    "        for i in metric_median_6month.index[1:]:\n",
    "            with columns[count]:\n",
    "                delta = (metric_median_6month[i] - metric_median_all[i])/metric_median_all[i]\n",
    "                st.metric(label = i, value = round(metric_median_6month[i], 1), delta = \"{:.2%}\".format(delta))\n",
    "                count += 1\n",
    "                if count >= 5:\n",
    "                    count = 0\n",
    "\n",
    "    if sidebar == dropbox_items[1]:\n",
    "        st.subheader(dropbox_items[1])\n",
    "        columns = ['Video Title', 'Video Publish Time', 'Views', 'Likes', 'Comments Added', 'Shares', 'Subscribers Gained', 'Subscribers Lost', 'Average View Duration', 'Your Estimated Revenue(USD)', 'Impressions Click-through Rate(%)']\n",
    "        temp_vid_final = temp_vid[columns]\n",
    "\n",
    "        numeric_cols = temp_vid_final.columns[np.array((temp_vid_final.dtypes == 'float64') | (temp_vid_final.dtypes == 'int64'))]\n",
    "        col_format = {}\n",
    "        for i in numeric_cols:\n",
    "            col_format[i] = '{:.1%}'.format\n",
    "\n",
    "        st.dataframe(temp_vid_final.style.applymap(color).format(col_format))\n",
    "\n",
    "    if sidebar == dropbox_items[2]:\n",
    "        st.subheader(dropbox_items[2])\n",
    "        dropbox_items_2 = tuple(met_vid['Video Title'])\n",
    "        video_dropbox = st.selectbox('Published Video', dropbox_items_2)\n",
    "\n",
    "        \n",
    "        selected_video_extra = met_con_sub[met_con_sub['Video Title'] == video_dropbox]\n",
    "        selected_video_extra.sort_values('Is Subscribed', inplace = True)\n",
    "\n",
    "        fig_1 = pl.bar(selected_video_extra, x='Is Subscribed', y = 'Views', color = 'Country Code', orientation = 'v')\n",
    "        \n",
    "        fig_1.update_layout(title = 'Views Statistics')\n",
    "        \n",
    "        st.plotly_chart(fig_1)\n",
    "\n",
    "        selected_video_extra_2 = temp_vid_per[temp_vid_per['Video Title'] == video_dropbox]\n",
    "        first_45 = selected_video_extra_2[selected_video_extra_2['Days Published'].between(0,45)]\n",
    "        first_45.sort_values('Days Published', inplace = True)\n",
    "\n",
    "        fig_2 = go.Figure()\n",
    "        fig_2.add_trace(go.Scatter(x = cumulative_views['Days Published'], y = cumulative_views['20 Percentile Views'], mode = 'lines', name = '20 Percentile Views', line = dict(color = '#26D9C7', dash = 'dash')))\n",
    "        fig_2.add_trace(go.Scatter(x = cumulative_views['Days Published'], y = cumulative_views['Median Views'], mode = 'lines', name = '50 Percentile Views', line = dict(color = '#91D926', dash = 'dash')))\n",
    "        fig_2.add_trace(go.Scatter(x = cumulative_views['Days Published'], y = cumulative_views['80 Percentile Views'], mode = 'lines', name = '80 Percentile Views', line = dict(color = '#D92638', dash = 'dash')))\n",
    "        fig_2.add_trace(go.Scatter(x = first_45['Days Published'], y = first_45['Views'].cumsum(), mode = 'lines', name = \"Current Video\", line = dict(color = '#6E26D9')))\n",
    "\n",
    "        fig_2.update_layout(title = \"First 45 Days Comparison\", xaxis_title = 'Days Since Published', yaxis_title = 'Cumulative Views')\n",
    "\n",
    "        st.plotly_chart(fig_2)\n",
    "        \n",
    "        selected_video_extra_3 = comments_by_date[comments_by_date['Video Title'] == video_dropbox]\n",
    "        fig_3 = go.Figure()\n",
    "        fig_3.add_trace(go.Scatter(x = selected_video_extra_3['Date'], y = selected_video_extra_3['No of Comments'], name = 'No of Comments', line = dict(color = 'Firebrick')))\n",
    "        \n",
    "        fig_3.update_layout(title = 'User Comments', xaxis_title = \"Date\", yaxis_title = 'No of Comments')\n",
    "\n",
    "        st.plotly_chart(fig_3)        "
   ]
  },
  {
   "cell_type": "code",
   "execution_count": null,
   "id": "34feb14d",
   "metadata": {},
   "outputs": [],
   "source": [
    "if __name__ == '__main__':\n",
    "    main()"
   ]
  }
 ],
 "metadata": {
  "jupytext": {
   "cell_metadata_filter": "-all",
   "encoding": "# -*- coding: utf-8 -*-",
   "main_language": "python",
   "notebook_metadata_filter": "-all"
  },
  "kernelspec": {
   "display_name": "Python 3 (ipykernel)",
   "language": "python",
   "name": "python3"
  },
  "language_info": {
   "codemirror_mode": {
    "name": "ipython",
    "version": 3
   },
   "file_extension": ".py",
   "mimetype": "text/x-python",
   "name": "python",
   "nbconvert_exporter": "python",
   "pygments_lexer": "ipython3",
   "version": "3.8.16"
  }
 },
 "nbformat": 4,
 "nbformat_minor": 5
}
